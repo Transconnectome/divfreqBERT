{
 "cells": [
  {
   "cell_type": "markdown",
   "metadata": {},
   "source": [
    "# 01 Import modules"
   ]
  },
  {
   "cell_type": "code",
   "execution_count": null,
   "metadata": {},
   "outputs": [],
   "source": [
    "import os\n",
    "from utils import *  #including 'init_distributed', 'weight_loader'\n",
    "from trainer import Trainer"
   ]
  },
  {
   "cell_type": "markdown",
   "metadata": {},
   "source": [
    "# 02 Get config"
   ]
  },
  {
   "cell_type": "markdown",
   "metadata": {},
   "source": [
    "You have to copy&paste 'get_arguments' function from main.py, and change little bit for your jupyter environment:\n",
    "\n",
    "args = parser.parse_args() --> args = parser.parse_args([])"
   ]
  },
  {
   "cell_type": "code",
   "execution_count": null,
   "metadata": {},
   "outputs": [],
   "source": [
    "def get_arguments(base_path):\n",
    "    \"\"\"\n",
    "    handle arguments from commandline.\n",
    "    some other hyper parameters can only be changed manually (such as model architecture,dropout,etc)\n",
    "    notice some arguments are global and take effect for the entire three phase training process, while others are determined per phase\n",
    "    \"\"\"\n",
    "    parser = argparse.ArgumentParser()\n",
    "    parser.add_argument('--exp_name', type=str,default=\"baseline\") \n",
    "    parser.add_argument('--dataset_name', type=str, choices=['HCP1200', 'ABCD', 'ABIDE', 'UKB'], default=\"ABCD\")\n",
    "    parser.add_argument('--fmri_type', type=str, choices=['timeseries', 'frequency', 'divided_timeseries', 'time_domain_low', 'time_domain_ultralow', 'time_domain_high' , 'frequency_domain_low', 'frequency_domain_ultralow', 'frequency_domain_high'], default=\"divided_timeseries\")\n",
    "    parser.add_argument('--intermediate_vec', type=int, choices=[84, 48, 22, 180, 200, 400, 246], default=180)\n",
    "    parser.add_argument('--shaefer_num_networks', type=int, choices=[7, 17], default=17)\n",
    "    parser.add_argument('--abcd_path', default='/storage/bigdata/ABCD/fmriprep/1.rs_fmri/5.ROI_DATA') ## labserver\n",
    "    parser.add_argument('--ukb_path', default='/scratch/connectome/stellasybae/UKB_ROI') ## labserver\n",
    "    parser.add_argument('--abide_path', default='/storage/bigdata/ABIDE/fmri') ## labserver\n",
    "    parser.add_argument('--base_path', default=base_path) # where your main.py, train.py, model.py are in.\n",
    "    parser.add_argument('--step', default='1', choices=['1','2','3','4'], help='which step you want to run')\n",
    "    \n",
    "    \n",
    "    parser.add_argument('--target', type=str, default='sex')\n",
    "    parser.add_argument('--fine_tune_task',\n",
    "                        choices=['regression','binary_classification'],\n",
    "                        help='fine tune model objective. choose binary_classification in case of a binary classification task')\n",
    "    parser.add_argument('--seed', type=int, default=1)\n",
    "    parser.add_argument('--visualization', action='store_true')\n",
    "    parser.add_argument('--prepare_visualization', action='store_true')\n",
    "    \n",
    "    parser.add_argument('--norm_axis', default=1, type=int, choices=[0,1,None])\n",
    "    \n",
    "    parser.add_argument('--cuda', default=True)\n",
    "    parser.add_argument('--log_dir', type=str, default=os.path.join(base_path, 'runs'))\n",
    "\n",
    "    parser.add_argument('--transformer_hidden_layers', type=int,default=8)\n",
    "    \n",
    "    # DDP configs:\n",
    "    parser.add_argument('--world_size', default=-1, type=int, \n",
    "                        help='number of nodes for distributed training')\n",
    "    parser.add_argument('--rank', default=-1, type=int, \n",
    "                        help='node rank for distributed training')\n",
    "    parser.add_argument('--local_rank', default=-1, type=int, \n",
    "                        help='local rank for distributed training')\n",
    "    parser.add_argument('--dist_backend', default='nccl', type=str, \n",
    "                        help='distributed backend')\n",
    "    parser.add_argument('--init_method', default='file', type=str, choices=['file','env'], help='DDP init method')\n",
    "    parser.add_argument('--distributed', default=True)\n",
    "\n",
    "    # AMP configs:\n",
    "    parser.add_argument('--amp', action='store_false')\n",
    "    parser.add_argument('--gradient_clipping', action='store_true')\n",
    "    parser.add_argument('--clip_max_norm', type=float, default=1.0)\n",
    "    \n",
    "    # Gradient accumulation\n",
    "    parser.add_argument(\"--accumulation_steps\", default=1, type=int,required=False,help='mini batch size == accumulation_steps * args.train_batch_size')\n",
    "    \n",
    "    # Nsight profiling\n",
    "    parser.add_argument(\"--profiling\", action='store_true')\n",
    "    \n",
    "    #wandb related\n",
    "    parser.add_argument('--wandb_key', default='108101f4b9c3e31a235aa58307d1c6b548cfb54a', type=str,  help='default: key for Stella')\n",
    "    parser.add_argument('--wandb_mode', default='online', type=str,  help='online|offline')\n",
    "    parser.add_argument('--wandb_entity', default='stellasybae', type=str)\n",
    "    parser.add_argument('--wandb_project', default='divfreqbert', type=str)\n",
    "\n",
    "    \n",
    "    # dividing\n",
    "    parser.add_argument('--filtering_type', default='Boxcar', choices=['FIR', 'Boxcar'])\n",
    "    parser.add_argument('--use_high_freq', action='store_true')\n",
    "    parser.add_argument('--divide_by_lorentzian', action='store_true')\n",
    "    parser.add_argument('--use_raw_knee', action='store_true')\n",
    "    parser.add_argument('--seq_part', type=str, default='tail')\n",
    "    parser.add_argument('--fmri_dividing_type', default='three_channels', choices=['two_channels', 'three_channels'])\n",
    "    \n",
    "    # Dropouts\n",
    "    parser.add_argument('--transformer_dropout_rate', type=float, default=0.3) \n",
    "\n",
    "    # Architecture\n",
    "    parser.add_argument('--num_heads', type=int, default=12,\n",
    "                        help='number of heads for BERT network (default: 12)')\n",
    "    parser.add_argument('--attn_mask', action='store_false',\n",
    "                        help='use attention mask for Transformer (default: true)')\n",
    "                        \n",
    "    \n",
    "    ## for finetune\n",
    "    parser.add_argument('--pretrained_model_weights_path', default=None)\n",
    "    parser.add_argument('--finetune', action='store_true')\n",
    "    parser.add_argument('--finetune_test', action='store_true', help='test phase of finetuning task')\n",
    "    \n",
    "    \n",
    "    ## spatiotemporal\n",
    "    parser.add_argument('--spatiotemporal', action = 'store_true')\n",
    "    parser.add_argument('--spat_diff_loss_type', type=str, default='minus_log', choices=['minus_log', 'reciprocal_log', 'exp_minus', 'log_loss', 'exp_whole'])\n",
    "    parser.add_argument('--spatial_loss_factor', type=float, default=0.1)\n",
    "    \n",
    "    ## ablation\n",
    "    parser.add_argument('--ablation', type=str, choices=['convolution', 'no_high_freq'])\n",
    "    \n",
    "    ## phase 1 vanilla BERT\n",
    "    parser.add_argument('--task_phase1', type=str, default='vanilla_BERT')\n",
    "    parser.add_argument('--batch_size_phase1', type=int, default=8, help='for DDP, each GPU processes batch_size_pahse1 samples')\n",
    "    parser.add_argument('--validation_frequency_phase1', type=int, default=10000000)\n",
    "    parser.add_argument('--nEpochs_phase1', type=int, default=100)\n",
    "    parser.add_argument('--optim_phase1', default='AdamW')\n",
    "    parser.add_argument('--weight_decay_phase1', type=float, default=1e-2)\n",
    "    parser.add_argument('--lr_policy_phase1', default='SGDR', help='learning rate policy: step|SGDR')\n",
    "    parser.add_argument('--lr_init_phase1', type=float, default=1e-3)\n",
    "    parser.add_argument('--lr_gamma_phase1', type=float, default=0.97)\n",
    "    parser.add_argument('--lr_step_phase1', type=int, default=3000)\n",
    "    parser.add_argument('--lr_warmup_phase1', type=int, default=500)\n",
    "    parser.add_argument('--sequence_length_phase1', type=int ,default=348) # ABCD 348 ABIDE 280 UKB 464\n",
    "    parser.add_argument('--workers_phase1', type=int,default=4)\n",
    "    parser.add_argument('--num_heads_2DBert', type=int, default=12)\n",
    "    \n",
    "    ## phase 2 divfreqBERT\n",
    "    parser.add_argument('--task_phase2', type=str, default='divfreqBERT')\n",
    "    parser.add_argument('--batch_size_phase2', type=int, default=8, help='for DDP, each GPU processes batch_size_pahse1 samples')\n",
    "    parser.add_argument('--nEpochs_phase2', type=int, default=100)\n",
    "    parser.add_argument('--optim_phase2', default='AdamW')\n",
    "    parser.add_argument('--weight_decay_phase2', type=float, default=1e-2)\n",
    "    parser.add_argument('--lr_policy_phase2', default='SGDR', help='learning rate policy: step|SGDR')\n",
    "    parser.add_argument('--lr_init_phase2', type=float, default=1e-3)\n",
    "    parser.add_argument('--lr_gamma_phase2', type=float, default=0.97)\n",
    "    parser.add_argument('--lr_step_phase2', type=int, default=3000)\n",
    "    parser.add_argument('--lr_warmup_phase2', type=int, default=500)\n",
    "    parser.add_argument('--sequence_length_phase2', type=int ,default=348) # ABCD 348 ABIDE 280 UKB 464\n",
    "    parser.add_argument('--workers_phase2', type=int, default=4)\n",
    "    \n",
    "    ##phase 3 divfreqBERT reconstruction\n",
    "    parser.add_argument('--task_phase3', type=str, default='divfreqBERT_reconstruction')\n",
    "    parser.add_argument('--batch_size_phase3', type=int, default=8, help='for DDP, each GPU processes batch_size_pahse1 samples')\n",
    "    parser.add_argument('--validation_frequency_phase3', type=int, default=10000000)\n",
    "    parser.add_argument('--nEpochs_phase3', type=int, default=1000)\n",
    "    parser.add_argument('--optim_phase3', default='AdamW')\n",
    "    parser.add_argument('--weight_decay_phase3', type=float, default=1e-2)\n",
    "    parser.add_argument('--lr_policy_phase3', default='SGDR', help='learning rate policy: step|SGDR')\n",
    "    parser.add_argument('--lr_init_phase3', type=float, default=1e-3)\n",
    "    parser.add_argument('--lr_gamma_phase3', type=float, default=0.97)\n",
    "    parser.add_argument('--lr_step_phase3', type=int, default=3000)\n",
    "    parser.add_argument('--lr_warmup_phase3', type=int, default=500)\n",
    "    parser.add_argument('--sequence_length_phase3', type=int ,default=464)\n",
    "    parser.add_argument('--workers_phase3', type=int,default=4)\n",
    "    parser.add_argument('--use_recon_loss', action='store_true')\n",
    "    parser.add_argument('--use_mask_loss', action='store_true') \n",
    "    parser.add_argument('--use_cont_loss', action='store_true')\n",
    "    parser.add_argument('--masking_rate', type=float, default=0.1)\n",
    "    parser.add_argument('--masking_method', type=str, default='spatiotemporal', choices=['temporal', 'spatial', 'spatiotemporal'])\n",
    "    parser.add_argument('--temporal_masking_type', type=str, default='time_window', choices=['single_point','time_window'])\n",
    "    parser.add_argument('--temporal_masking_window_size', type=int, default=20)\n",
    "    parser.add_argument('--window_interval_rate', type=int, default=2)\n",
    "    parser.add_argument('--spatial_masking_type', type=str, default='hub_ROIs', choices=['hub_ROIs', 'random_ROIs'])\n",
    "    parser.add_argument('--communicability_option', type=str, default='remove_high_comm_node', choices=['remove_high_comm_node', 'remove_low_comm_node'])\n",
    "    parser.add_argument('--num_hub_ROIs', type=int, default=5)\n",
    "    parser.add_argument('--num_random_ROIs', type=int, default=5)\n",
    "    parser.add_argument('--spatiotemporal_masking_type', type=str, default='whole', choices=['whole', 'separate'])\n",
    "    \n",
    "    \n",
    "    ## phase 4 (test)\n",
    "    parser.add_argument('--task_phase4', type=str, default='test')\n",
    "    parser.add_argument('--model_weights_path_phase4', default=None)\n",
    "    parser.add_argument('--batch_size_phase4', type=int, default=4)\n",
    "    parser.add_argument('--nEpochs_phase4', type=int, default=1)\n",
    "    parser.add_argument('--optim_phase4', default='AdamW')\n",
    "    parser.add_argument('--weight_decay_phase4', type=float, default=1e-2)\n",
    "    parser.add_argument('--lr_policy_phase4', default='SGDR', help='learning rate policy: step|SGDR')\n",
    "    parser.add_argument('--lr_init_phase4', type=float, default=1e-4)\n",
    "    parser.add_argument('--lr_gamma_phase4', type=float, default=0.9)\n",
    "    parser.add_argument('--lr_step_phase4', type=int, default=3000)\n",
    "    parser.add_argument('--lr_warmup_phase4', type=int, default=100)\n",
    "    parser.add_argument('--sequence_length_phase4', type=int,default=348) # ABCD 348 ABIDE 280 UKB 464\n",
    "    parser.add_argument('--workers_phase4', type=int, default=4)\n",
    "                        \n",
    "    args = parser.parse_args([])\n",
    "        \n",
    "    return args"
   ]
  },
  {
   "cell_type": "code",
   "execution_count": null,
   "metadata": {},
   "outputs": [],
   "source": [
    "base_path = os.getcwd()\n",
    "args = get_arguments(base_path)"
   ]
  },
  {
   "cell_type": "code",
   "execution_count": null,
   "metadata": {},
   "outputs": [],
   "source": [
    "args"
   ]
  },
  {
   "cell_type": "code",
   "execution_count": null,
   "metadata": {},
   "outputs": [],
   "source": [
    "vars(args)"
   ]
  },
  {
   "cell_type": "code",
   "execution_count": null,
   "metadata": {},
   "outputs": [],
   "source": [
    "phase_num = '2' # suppose phase 2 (divfreqBERT)"
   ]
  },
  {
   "cell_type": "code",
   "execution_count": null,
   "metadata": {},
   "outputs": [],
   "source": [
    "# make args to dict. + detach phase numbers from args\n",
    "kwargs = sort_args(phase_num, vars(args))"
   ]
  },
  {
   "cell_type": "code",
   "execution_count": null,
   "metadata": {},
   "outputs": [],
   "source": [
    "kwargs # now it is dictionary"
   ]
  },
  {
   "cell_type": "markdown",
   "metadata": {},
   "source": [
    "you can change args as you want"
   ]
  },
  {
   "cell_type": "code",
   "execution_count": null,
   "metadata": {},
   "outputs": [],
   "source": [
    "kwargs['wandb_key']='108101f4b9c3e31a235aa58307d1c6b548cfb54a'\n",
    "kwargs['wandb_mode']='online'\n",
    "kwargs['wandb_entity']='stellasybae'\n",
    "kwargs['wandb_project']='divfreqbert'\n",
    "kwargs['dataset_name']='ABCD'\n",
    "kwargs['step']='2'\n",
    "kwargs['batch_size_phase2']= 32\n",
    "kwargs['lr_init_phase2']= 3e-5\n",
    "kwargs['fine_tune_task']='binary_classification'\n",
    "kwargs['target']='sex'\n",
    "kwargs['intermediate_vec']= 180\n",
    "kwargs['fmri_type']='divided_timeseries'\n",
    "kwargs['nEpochs_phase2']= 100\n",
    "kwargs['transformer_hidden_layers']= 8\n",
    "kwargs['num_heads']= 12\n",
    "kwargs['exp_name']='240722_tutorial'\n",
    "kwargs['seed']= 1\n",
    "kwargs['sequence_length_phase2']= 348\n",
    "kwargs['divide_by_lorentzian']= True\n",
    "kwargs['seq_part']='head'\n",
    "kwargs['use_raw_knee']= True\n",
    "kwargs['fmri_dividing_type']='three_channels'\n",
    "kwargs['use_high_freq']= True\n",
    "kwargs['spatiotemporal']= True\n",
    "kwargs['spat_diff_loss_type']='minus_log'"
   ]
  },
  {
   "cell_type": "markdown",
   "metadata": {},
   "source": [
    "# 03 run divfreqBERT"
   ]
  },
  {
   "cell_type": "code",
   "execution_count": null,
   "metadata": {},
   "outputs": [],
   "source": [
    "if kwargs['prepare_visualization']:\n",
    "    S = ['train','val']\n",
    "else:\n",
    "    S = ['train','val','test']\n",
    "\n",
    "trainer = Trainer(sets=S,**kwargs)"
   ]
  },
  {
   "cell_type": "code",
   "execution_count": null,
   "metadata": {},
   "outputs": [],
   "source": []
  }
 ],
 "metadata": {
  "kernelspec": {
   "display_name": "divfreq",
   "language": "python",
   "name": "divfreq"
  },
  "language_info": {
   "codemirror_mode": {
    "name": "ipython",
    "version": 3
   },
   "file_extension": ".py",
   "mimetype": "text/x-python",
   "name": "python",
   "nbconvert_exporter": "python",
   "pygments_lexer": "ipython3",
   "version": "3.9.12"
  }
 },
 "nbformat": 4,
 "nbformat_minor": 2
}
